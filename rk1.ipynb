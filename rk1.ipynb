{
 "cells": [
  {
   "metadata": {},
   "cell_type": "markdown",
   "source": [
    "# РК-1 Технологии машинного обучения\n",
    "\n",
    "**Студент:** Лялько Никита Андреевич  \n",
    "**Группа:** ИУ5-65Б  \n",
    "**Вариант:** 13  \n",
    "**Задача:** 2  \n",
    "**Датасет:** 5  \n",
    "\n",
    "## Задание\n",
    "\n",
    "Для заданного набора данных необходимо выполнить следующие шаги:\n",
    "\n",
    "1. Обработать пропуски в данных для:\n",
    "   - Одного категориального признака\n",
    "   - Одного количественного признака\n",
    "\n",
    "2. Описать используемые способы обработки пропусков в данных для категориальных и количественных признаков.\n",
    "\n",
    "3. Определить признаки, которые будут использоваться для дальнейшего построения моделей машинного обучения, и обосновать выбор.\n",
    "\n",
    "4. Для студентов групп ИУ5-62Б, ИУ5Ц-82Б: Построить гистограмму для произвольной колонки данных.\n"
   ],
   "id": "65c561600649b5b6"
  },
  {
   "metadata": {},
   "cell_type": "markdown",
   "source": [
    "# Решение\n",
    "# Загрузка датасета\n",
    "Для работы с набором данных буду использовать библиотеку pandas, так как это наиболее распространённый и простой в использовании инструмент для решения поставленной задачи."
   ],
   "id": "7535fed9594d70ef"
  },
  {
   "metadata": {
    "ExecuteTime": {
     "end_time": "2024-04-15T12:56:47.519787Z",
     "start_time": "2024-04-15T12:56:47.515741Z"
    }
   },
   "cell_type": "code",
   "source": [
    "import pandas as pd\n",
    "\n",
    "data = pd.read_csv('Admission_Predict.csv', sep=\",\")"
   ],
   "id": "65b420c1a374b249",
   "outputs": [],
   "execution_count": 36
  },
  {
   "metadata": {},
   "cell_type": "markdown",
   "source": "Первичный анализ\n",
   "id": "362e09af5b074abc"
  },
  {
   "metadata": {
    "ExecuteTime": {
     "end_time": "2024-04-15T12:56:47.522526Z",
     "start_time": "2024-04-15T12:56:47.519787Z"
    }
   },
   "cell_type": "code",
   "source": [
    "print('Всего строк: {}'.format(data.shape[0]))\n",
    "print('Всего колонок: {}'.format(data.shape[1]))"
   ],
   "id": "2a5cc326bc86cfd4",
   "outputs": [
    {
     "name": "stdout",
     "output_type": "stream",
     "text": [
      "Всего строк: 400\n",
      "Всего колонок: 9\n"
     ]
    }
   ],
   "execution_count": 37
  },
  {
   "metadata": {
    "ExecuteTime": {
     "end_time": "2024-04-15T12:56:47.525607Z",
     "start_time": "2024-04-15T12:56:47.522526Z"
    }
   },
   "cell_type": "code",
   "source": "data.dtypes",
   "id": "832fb53513d20342",
   "outputs": [
    {
     "data": {
      "text/plain": [
       "Serial No.             int64\n",
       "GRE Score              int64\n",
       "TOEFL Score            int64\n",
       "University Rating      int64\n",
       "SOP                  float64\n",
       "LOR                  float64\n",
       "CGPA                 float64\n",
       "Research               int64\n",
       "Chance of Admit      float64\n",
       "dtype: object"
      ]
     },
     "execution_count": 38,
     "metadata": {},
     "output_type": "execute_result"
    }
   ],
   "execution_count": 38
  },
  {
   "metadata": {
    "ExecuteTime": {
     "end_time": "2024-04-15T12:56:47.531537Z",
     "start_time": "2024-04-15T12:56:47.525607Z"
    }
   },
   "cell_type": "code",
   "source": "data.head()",
   "id": "4d7b3507501dcf0d",
   "outputs": [
    {
     "data": {
      "text/plain": [
       "   Serial No.  GRE Score  TOEFL Score  University Rating  SOP  LOR   CGPA  \\\n",
       "0           1        337          118                  4  4.5   4.5  9.65   \n",
       "1           2        324          107                  4  4.0   4.5  8.87   \n",
       "2           3        316          104                  3  3.0   3.5  8.00   \n",
       "3           4        322          110                  3  3.5   2.5  8.67   \n",
       "4           5        314          103                  2  2.0   3.0  8.21   \n",
       "\n",
       "   Research  Chance of Admit   \n",
       "0         1              0.92  \n",
       "1         1              0.76  \n",
       "2         1              0.72  \n",
       "3         1              0.80  \n",
       "4         0              0.65  "
      ],
      "text/html": [
       "<div>\n",
       "<style scoped>\n",
       "    .dataframe tbody tr th:only-of-type {\n",
       "        vertical-align: middle;\n",
       "    }\n",
       "\n",
       "    .dataframe tbody tr th {\n",
       "        vertical-align: top;\n",
       "    }\n",
       "\n",
       "    .dataframe thead th {\n",
       "        text-align: right;\n",
       "    }\n",
       "</style>\n",
       "<table border=\"1\" class=\"dataframe\">\n",
       "  <thead>\n",
       "    <tr style=\"text-align: right;\">\n",
       "      <th></th>\n",
       "      <th>Serial No.</th>\n",
       "      <th>GRE Score</th>\n",
       "      <th>TOEFL Score</th>\n",
       "      <th>University Rating</th>\n",
       "      <th>SOP</th>\n",
       "      <th>LOR</th>\n",
       "      <th>CGPA</th>\n",
       "      <th>Research</th>\n",
       "      <th>Chance of Admit</th>\n",
       "    </tr>\n",
       "  </thead>\n",
       "  <tbody>\n",
       "    <tr>\n",
       "      <th>0</th>\n",
       "      <td>1</td>\n",
       "      <td>337</td>\n",
       "      <td>118</td>\n",
       "      <td>4</td>\n",
       "      <td>4.5</td>\n",
       "      <td>4.5</td>\n",
       "      <td>9.65</td>\n",
       "      <td>1</td>\n",
       "      <td>0.92</td>\n",
       "    </tr>\n",
       "    <tr>\n",
       "      <th>1</th>\n",
       "      <td>2</td>\n",
       "      <td>324</td>\n",
       "      <td>107</td>\n",
       "      <td>4</td>\n",
       "      <td>4.0</td>\n",
       "      <td>4.5</td>\n",
       "      <td>8.87</td>\n",
       "      <td>1</td>\n",
       "      <td>0.76</td>\n",
       "    </tr>\n",
       "    <tr>\n",
       "      <th>2</th>\n",
       "      <td>3</td>\n",
       "      <td>316</td>\n",
       "      <td>104</td>\n",
       "      <td>3</td>\n",
       "      <td>3.0</td>\n",
       "      <td>3.5</td>\n",
       "      <td>8.00</td>\n",
       "      <td>1</td>\n",
       "      <td>0.72</td>\n",
       "    </tr>\n",
       "    <tr>\n",
       "      <th>3</th>\n",
       "      <td>4</td>\n",
       "      <td>322</td>\n",
       "      <td>110</td>\n",
       "      <td>3</td>\n",
       "      <td>3.5</td>\n",
       "      <td>2.5</td>\n",
       "      <td>8.67</td>\n",
       "      <td>1</td>\n",
       "      <td>0.80</td>\n",
       "    </tr>\n",
       "    <tr>\n",
       "      <th>4</th>\n",
       "      <td>5</td>\n",
       "      <td>314</td>\n",
       "      <td>103</td>\n",
       "      <td>2</td>\n",
       "      <td>2.0</td>\n",
       "      <td>3.0</td>\n",
       "      <td>8.21</td>\n",
       "      <td>0</td>\n",
       "      <td>0.65</td>\n",
       "    </tr>\n",
       "  </tbody>\n",
       "</table>\n",
       "</div>"
      ]
     },
     "execution_count": 39,
     "metadata": {},
     "output_type": "execute_result"
    }
   ],
   "execution_count": 39
  },
  {
   "metadata": {},
   "cell_type": "markdown",
   "source": [
    "Для обработки пропущенных значений в данных этого датасета (Graduate Admission 2) мы можем использовать различные методы в зависимости от типа признака (категориальный или количественный).\n",
    "\n",
    "# Для категориального признака:\n",
    "Категориальный признак в данном случае отсутствует, но предположим, у нас есть категориальный признак, такой как \"Region\" (регион университета)."
   ],
   "id": "defc2fef09bb40ca"
  },
  {
   "metadata": {
    "ExecuteTime": {
     "end_time": "2024-04-15T12:56:47.538261Z",
     "start_time": "2024-04-15T12:56:47.531537Z"
    }
   },
   "cell_type": "code",
   "source": [
    "import numpy as np\n",
    "\n",
    "regions = ['Asia', 'Europe', 'North America', 'South America', 'Africa', 'Australia']\n",
    "\n",
    "# Добавляем случайные значения для признака \"Region\"\n",
    "data['Region'] = np.random.choice(regions, size=400)\n",
    "data = pd.DataFrame(data)\n",
    "\n",
    "data.head()"
   ],
   "id": "555af0edf30f0790",
   "outputs": [
    {
     "data": {
      "text/plain": [
       "   Serial No.  GRE Score  TOEFL Score  University Rating  SOP  LOR   CGPA  \\\n",
       "0           1        337          118                  4  4.5   4.5  9.65   \n",
       "1           2        324          107                  4  4.0   4.5  8.87   \n",
       "2           3        316          104                  3  3.0   3.5  8.00   \n",
       "3           4        322          110                  3  3.5   2.5  8.67   \n",
       "4           5        314          103                  2  2.0   3.0  8.21   \n",
       "\n",
       "   Research  Chance of Admit          Region  \n",
       "0         1              0.92  South America  \n",
       "1         1              0.76  North America  \n",
       "2         1              0.72  South America  \n",
       "3         1              0.80         Africa  \n",
       "4         0              0.65  South America  "
      ],
      "text/html": [
       "<div>\n",
       "<style scoped>\n",
       "    .dataframe tbody tr th:only-of-type {\n",
       "        vertical-align: middle;\n",
       "    }\n",
       "\n",
       "    .dataframe tbody tr th {\n",
       "        vertical-align: top;\n",
       "    }\n",
       "\n",
       "    .dataframe thead th {\n",
       "        text-align: right;\n",
       "    }\n",
       "</style>\n",
       "<table border=\"1\" class=\"dataframe\">\n",
       "  <thead>\n",
       "    <tr style=\"text-align: right;\">\n",
       "      <th></th>\n",
       "      <th>Serial No.</th>\n",
       "      <th>GRE Score</th>\n",
       "      <th>TOEFL Score</th>\n",
       "      <th>University Rating</th>\n",
       "      <th>SOP</th>\n",
       "      <th>LOR</th>\n",
       "      <th>CGPA</th>\n",
       "      <th>Research</th>\n",
       "      <th>Chance of Admit</th>\n",
       "      <th>Region</th>\n",
       "    </tr>\n",
       "  </thead>\n",
       "  <tbody>\n",
       "    <tr>\n",
       "      <th>0</th>\n",
       "      <td>1</td>\n",
       "      <td>337</td>\n",
       "      <td>118</td>\n",
       "      <td>4</td>\n",
       "      <td>4.5</td>\n",
       "      <td>4.5</td>\n",
       "      <td>9.65</td>\n",
       "      <td>1</td>\n",
       "      <td>0.92</td>\n",
       "      <td>South America</td>\n",
       "    </tr>\n",
       "    <tr>\n",
       "      <th>1</th>\n",
       "      <td>2</td>\n",
       "      <td>324</td>\n",
       "      <td>107</td>\n",
       "      <td>4</td>\n",
       "      <td>4.0</td>\n",
       "      <td>4.5</td>\n",
       "      <td>8.87</td>\n",
       "      <td>1</td>\n",
       "      <td>0.76</td>\n",
       "      <td>North America</td>\n",
       "    </tr>\n",
       "    <tr>\n",
       "      <th>2</th>\n",
       "      <td>3</td>\n",
       "      <td>316</td>\n",
       "      <td>104</td>\n",
       "      <td>3</td>\n",
       "      <td>3.0</td>\n",
       "      <td>3.5</td>\n",
       "      <td>8.00</td>\n",
       "      <td>1</td>\n",
       "      <td>0.72</td>\n",
       "      <td>South America</td>\n",
       "    </tr>\n",
       "    <tr>\n",
       "      <th>3</th>\n",
       "      <td>4</td>\n",
       "      <td>322</td>\n",
       "      <td>110</td>\n",
       "      <td>3</td>\n",
       "      <td>3.5</td>\n",
       "      <td>2.5</td>\n",
       "      <td>8.67</td>\n",
       "      <td>1</td>\n",
       "      <td>0.80</td>\n",
       "      <td>Africa</td>\n",
       "    </tr>\n",
       "    <tr>\n",
       "      <th>4</th>\n",
       "      <td>5</td>\n",
       "      <td>314</td>\n",
       "      <td>103</td>\n",
       "      <td>2</td>\n",
       "      <td>2.0</td>\n",
       "      <td>3.0</td>\n",
       "      <td>8.21</td>\n",
       "      <td>0</td>\n",
       "      <td>0.65</td>\n",
       "      <td>South America</td>\n",
       "    </tr>\n",
       "  </tbody>\n",
       "</table>\n",
       "</div>"
      ]
     },
     "execution_count": 40,
     "metadata": {},
     "output_type": "execute_result"
    }
   ],
   "execution_count": 40
  },
  {
   "metadata": {},
   "cell_type": "markdown",
   "source": "Теперь для обработки пропущенных значений мы можем воспользоваться методом замены пропусков на моду: создать сценарий, где у нас есть пропущенные значения в признаке \"Region\", и заменить их на самый часто встречающийся регион.",
   "id": "3547c4a63d49e29b"
  },
  {
   "metadata": {
    "ExecuteTime": {
     "end_time": "2024-04-15T12:56:47.540829Z",
     "start_time": "2024-04-15T12:56:47.538261Z"
    }
   },
   "cell_type": "code",
   "source": [
    "# Заменяем пропущенные значения модой\n",
    "data['Region'] = data['Region'].fillna(data['Region'].mode()[0])"
   ],
   "id": "f0c2794cef8667ef",
   "outputs": [],
   "execution_count": 41
  },
  {
   "metadata": {},
   "cell_type": "markdown",
   "source": [
    "# Для количественного признака:\n",
    "Количественные признаки включают GRE Score, TOEFL Score, SOP, LOR, CGPA и Chance of Admit.\n",
    "\n",
    "Мы будем использовать для них замену пропусков на среднее или медиану:\n",
    "\n",
    "Для количественных признаков хорошим методом заполнения пропусков может быть замена их средним или медианой, чтобы сохранить статистические характеристики данных."
   ],
   "id": "8c5163044a41d487"
  },
  {
   "metadata": {
    "ExecuteTime": {
     "end_time": "2024-04-15T12:56:47.544282Z",
     "start_time": "2024-04-15T12:56:47.540829Z"
    }
   },
   "cell_type": "code",
   "source": [
    "# Заменяем пропущенные значения медианой\n",
    "categories = ['GRE Score', 'TOEFL Score', 'SOP', 'LOR ', 'CGPA', 'Chance of Admit ']\n",
    "\n",
    "for i in categories:\n",
    "    data[i] = data[i].fillna(data[i].median())"
   ],
   "id": "17dd7e8bdc4172d1",
   "outputs": [],
   "execution_count": 42
  },
  {
   "metadata": {},
   "cell_type": "markdown",
   "source": "",
   "id": "3342cd1d52c488a7"
  },
  {
   "metadata": {},
   "cell_type": "markdown",
   "source": [
    "# Выбор признаков для модели машинного обучения:\n",
    "Для построения моделей машинного обучения из этого набора данных можно использовать следующие признаки:\n",
    "\n",
    "GRE Score\n",
    "TOEFL Score\n",
    "University Rating\n",
    "SOP\n",
    "LOR\n",
    "CGPA\n",
    "Research\n",
    "Почему выбор этих признаков важен для моделирования:\n",
    "\n",
    "Оценки (GRE и TOEFL): Эти показатели являются важными для оценки академической подготовки студента.\n",
    "Рейтинг университета: Оценка университета, из которого поступает студент, может влиять на вероятность допуска.\n",
    "SOP (Statement of Purpose) и LOR (Letter of Recommendation): Эти признаки отражают мотивацию и рекомендации соответственно, что также важно для оценки кандидата.\n",
    "CGPA (Cumulative Grade Point Average): Это важный показатель успеваемости студента.\n",
    "Research (Исследовательский опыт): Наличие опыта исследований также может быть фактором в принятии решения.\n",
    "Использование этих признаков позволит построить модель, которая будет учитывать как академические, так и дополнительные факторы, влияющие на вероятность поступления в аспирантуру."
   ],
   "id": "3f19adfd060ade33"
  },
  {
   "metadata": {},
   "cell_type": "markdown",
   "source": "# Доп задание",
   "id": "f014ee580c6f0064"
  },
  {
   "metadata": {
    "ExecuteTime": {
     "end_time": "2024-04-15T12:56:48.114147Z",
     "start_time": "2024-04-15T12:56:47.544282Z"
    }
   },
   "cell_type": "code",
   "source": [
    "import matplotlib.pyplot as plt\n",
    "# Построим гистограмму для 'SOP'\n",
    "plt.hist(data['SOP'], bins=30, edgecolor='black')\n",
    "plt.title('Гистограмма для SOP')\n",
    "plt.xlabel('SOP')\n",
    "plt.ylabel('Частота')\n",
    "plt.show()"
   ],
   "id": "4b0e3a270f1cda2c",
   "outputs": [
    {
     "data": {
      "text/plain": [
       "<Figure size 640x480 with 1 Axes>"
      ],
      "image/png": "[encoded data removed]"
     },
     "metadata": {},
     "output_type": "display_data"
    }
   ],
   "execution_count": 43
  }
 ],
 "metadata": {
  "kernelspec": {
   "display_name": "Python 3",
   "language": "python",
   "name": "python3"
  },
  "language_info": {
   "codemirror_mode": {
    "name": "ipython",
    "version": 2
   },
   "file_extension": ".py",
   "mimetype": "text/x-python",
   "name": "python",
   "nbconvert_exporter": "python",
   "pygments_lexer": "ipython2",
   "version": "2.7.6"
  }
 },
 "nbformat": 4,
 "nbformat_minor": 5
}
